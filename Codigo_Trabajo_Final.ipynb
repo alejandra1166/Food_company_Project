{
 "cells": [
  {
   "cell_type": "markdown",
   "id": "8c1ec313-905b-434d-9904-6bdddac17fc4",
   "metadata": {},
   "source": [
    "<center><h4>Diplomado en Estadística Aplicada a la Toma de Decisiones con Lenguaje R y Python</h4></center>\n",
    "<center><h4>Universidad Privada Boliviana</h4></center>\n",
    "\n",
    "<center><h3>MODELOS PREDICTIVOS PARA LA TOMA DE DECISIONES ESTRATÉGICAS</h3></center>\n",
    "<center>Enrique Alejandro Laurel Cossio, Septiembre 2024</center>\n",
    "\n",
    "<center><h1>Trabajo Final</h1></center>"
   ]
  },
  {
   "cell_type": "code",
   "execution_count": 1,
   "id": "71109954-aeeb-49b1-8ab5-56f95b546059",
   "metadata": {},
   "outputs": [],
   "source": [
    "# Cargamos Librerias\n",
    "import pandas as pd\n",
    "import numpy as np\n",
    "import matplotlib.pyplot as plt\n",
    "\n",
    "import seaborn as sns\n",
    "import statsmodels.api as sm\n",
    "import statsmodels.formula.api as smf\n",
    "\n",
    "from sklearn.model_selection import train_test_split\n",
    "from sklearn.linear_model import LogisticRegression\n",
    "from sklearn.metrics import accuracy_score,mean_squared_error,r2_score,confusion_matrix,recall_score,classification_report,precision_score\n",
    "from sklearn.metrics import roc_curve, roc_auc_score\n",
    "\n",
    "from sklearn.tree import DecisionTreeRegressor\n",
    "from sklearn.tree import DecisionTreeClassifier\n",
    "\n",
    "from sklearn.model_selection import GridSearchCV"
   ]
  },
  {
   "cell_type": "code",
   "execution_count": 3,
   "id": "6e6bb780-8a6f-4b30-90ff-a9473cbe75d8",
   "metadata": {},
   "outputs": [
    {
     "name": "stdout",
     "output_type": "stream",
     "text": [
      "(2205, 39)\n"
     ]
    },
    {
     "data": {
      "text/html": [
       "<div>\n",
       "<style scoped>\n",
       "    .dataframe tbody tr th:only-of-type {\n",
       "        vertical-align: middle;\n",
       "    }\n",
       "\n",
       "    .dataframe tbody tr th {\n",
       "        vertical-align: top;\n",
       "    }\n",
       "\n",
       "    .dataframe thead th {\n",
       "        text-align: right;\n",
       "    }\n",
       "</style>\n",
       "<table border=\"1\" class=\"dataframe\">\n",
       "  <thead>\n",
       "    <tr style=\"text-align: right;\">\n",
       "      <th></th>\n",
       "      <th>Income</th>\n",
       "      <th>Kidhome</th>\n",
       "      <th>Teenhome</th>\n",
       "      <th>Recency</th>\n",
       "      <th>MntWines</th>\n",
       "      <th>MntFruits</th>\n",
       "      <th>MntMeatProducts</th>\n",
       "      <th>MntFishProducts</th>\n",
       "      <th>MntSweetProducts</th>\n",
       "      <th>MntGoldProds</th>\n",
       "      <th>...</th>\n",
       "      <th>marital_Together</th>\n",
       "      <th>marital_Widow</th>\n",
       "      <th>education_2n Cycle</th>\n",
       "      <th>education_Basic</th>\n",
       "      <th>education_Graduation</th>\n",
       "      <th>education_Master</th>\n",
       "      <th>education_PhD</th>\n",
       "      <th>MntTotal</th>\n",
       "      <th>MntRegularProds</th>\n",
       "      <th>AcceptedCmpOverall</th>\n",
       "    </tr>\n",
       "  </thead>\n",
       "  <tbody>\n",
       "    <tr>\n",
       "      <th>0</th>\n",
       "      <td>58138.0</td>\n",
       "      <td>0</td>\n",
       "      <td>0</td>\n",
       "      <td>58</td>\n",
       "      <td>635</td>\n",
       "      <td>88</td>\n",
       "      <td>546</td>\n",
       "      <td>172</td>\n",
       "      <td>88</td>\n",
       "      <td>88</td>\n",
       "      <td>...</td>\n",
       "      <td>0</td>\n",
       "      <td>0</td>\n",
       "      <td>0</td>\n",
       "      <td>0</td>\n",
       "      <td>1</td>\n",
       "      <td>0</td>\n",
       "      <td>0</td>\n",
       "      <td>1529</td>\n",
       "      <td>1441</td>\n",
       "      <td>0</td>\n",
       "    </tr>\n",
       "    <tr>\n",
       "      <th>1</th>\n",
       "      <td>46344.0</td>\n",
       "      <td>1</td>\n",
       "      <td>1</td>\n",
       "      <td>38</td>\n",
       "      <td>11</td>\n",
       "      <td>1</td>\n",
       "      <td>6</td>\n",
       "      <td>2</td>\n",
       "      <td>1</td>\n",
       "      <td>6</td>\n",
       "      <td>...</td>\n",
       "      <td>0</td>\n",
       "      <td>0</td>\n",
       "      <td>0</td>\n",
       "      <td>0</td>\n",
       "      <td>1</td>\n",
       "      <td>0</td>\n",
       "      <td>0</td>\n",
       "      <td>21</td>\n",
       "      <td>15</td>\n",
       "      <td>0</td>\n",
       "    </tr>\n",
       "    <tr>\n",
       "      <th>2</th>\n",
       "      <td>71613.0</td>\n",
       "      <td>0</td>\n",
       "      <td>0</td>\n",
       "      <td>26</td>\n",
       "      <td>426</td>\n",
       "      <td>49</td>\n",
       "      <td>127</td>\n",
       "      <td>111</td>\n",
       "      <td>21</td>\n",
       "      <td>42</td>\n",
       "      <td>...</td>\n",
       "      <td>1</td>\n",
       "      <td>0</td>\n",
       "      <td>0</td>\n",
       "      <td>0</td>\n",
       "      <td>1</td>\n",
       "      <td>0</td>\n",
       "      <td>0</td>\n",
       "      <td>734</td>\n",
       "      <td>692</td>\n",
       "      <td>0</td>\n",
       "    </tr>\n",
       "  </tbody>\n",
       "</table>\n",
       "<p>3 rows × 39 columns</p>\n",
       "</div>"
      ],
      "text/plain": [
       "    Income  Kidhome  Teenhome  Recency  MntWines  MntFruits  MntMeatProducts  \\\n",
       "0  58138.0        0         0       58       635         88              546   \n",
       "1  46344.0        1         1       38        11          1                6   \n",
       "2  71613.0        0         0       26       426         49              127   \n",
       "\n",
       "   MntFishProducts  MntSweetProducts  MntGoldProds  ...  marital_Together  \\\n",
       "0              172                88            88  ...                 0   \n",
       "1                2                 1             6  ...                 0   \n",
       "2              111                21            42  ...                 1   \n",
       "\n",
       "   marital_Widow  education_2n Cycle  education_Basic  education_Graduation  \\\n",
       "0              0                   0                0                     1   \n",
       "1              0                   0                0                     1   \n",
       "2              0                   0                0                     1   \n",
       "\n",
       "   education_Master  education_PhD  MntTotal  MntRegularProds  \\\n",
       "0                 0              0      1529             1441   \n",
       "1                 0              0        21               15   \n",
       "2                 0              0       734              692   \n",
       "\n",
       "   AcceptedCmpOverall  \n",
       "0                   0  \n",
       "1                   0  \n",
       "2                   0  \n",
       "\n",
       "[3 rows x 39 columns]"
      ]
     },
     "execution_count": 3,
     "metadata": {},
     "output_type": "execute_result"
    }
   ],
   "source": [
    "url='https://raw.githubusercontent.com/ealaurel/MODELOS_PREDICTIVOS/main/data/ifood_df.csv'\n",
    "ifood_df = pd.read_csv(url,sep=',', encoding='iso-8859-1')\n",
    "\n",
    "print(ifood_df.shape)\n",
    "ifood_df.head(3)"
   ]
  },
  {
   "cell_type": "code",
   "execution_count": 5,
   "id": "09a40d15-9770-44e5-bbaa-c8ab6fcf1ae3",
   "metadata": {},
   "outputs": [
    {
     "data": {
      "text/plain": [
       "Index(['Income', 'Kidhome', 'Teenhome', 'Recency', 'MntWines', 'MntFruits',\n",
       "       'MntMeatProducts', 'MntFishProducts', 'MntSweetProducts',\n",
       "       'MntGoldProds', 'NumDealsPurchases', 'NumWebPurchases',\n",
       "       'NumCatalogPurchases', 'NumStorePurchases', 'NumWebVisitsMonth',\n",
       "       'AcceptedCmp3', 'AcceptedCmp4', 'AcceptedCmp5', 'AcceptedCmp1',\n",
       "       'AcceptedCmp2', 'Complain', 'Z_CostContact', 'Z_Revenue', 'Response',\n",
       "       'Age', 'Customer_Days', 'marital_Divorced', 'marital_Married',\n",
       "       'marital_Single', 'marital_Together', 'marital_Widow',\n",
       "       'education_2n Cycle', 'education_Basic', 'education_Graduation',\n",
       "       'education_Master', 'education_PhD', 'MntTotal', 'MntRegularProds',\n",
       "       'AcceptedCmpOverall'],\n",
       "      dtype='object')"
      ]
     },
     "execution_count": 5,
     "metadata": {},
     "output_type": "execute_result"
    }
   ],
   "source": [
    "ifood_df.columns"
   ]
  },
  {
   "cell_type": "markdown",
   "id": "efe2cacd-38e5-46be-bd5c-d307776fd558",
   "metadata": {},
   "source": [
    "## Filtrando la base de datos para incluir solo grupo Target (personas con hijos)"
   ]
  },
  {
   "cell_type": "code",
   "execution_count": 7,
   "id": "180d54d1-fb02-492b-a461-bea658ed76ef",
   "metadata": {},
   "outputs": [],
   "source": [
    "# Define la condición de filtrado\n",
    "condition = (ifood_df['Kidhome'] == 1) & (ifood_df['Teenhome'] == 1)\n"
   ]
  },
  {
   "cell_type": "code",
   "execution_count": 9,
   "id": "48ec5a63-d3f0-4f1e-a8d2-4eefb4d1248e",
   "metadata": {},
   "outputs": [
    {
     "name": "stdout",
     "output_type": "stream",
     "text": [
      "     Income  Recency  MntWines  MntFruits  MntMeatProducts  MntFishProducts  \\\n",
      "1   46344.0       38        11          1                6                2   \n",
      "9    5648.0       68        28          0                6                1   \n",
      "12  59354.0       53       233          2               53                3   \n",
      "15  41850.0       51        53          5               19                2   \n",
      "25  53359.0        4       173          4               30                3   \n",
      "\n",
      "    MntSweetProducts  MntGoldProds  NumDealsPurchases  NumWebPurchases  ...  \\\n",
      "1                  1             6                  2                1  ...   \n",
      "9                  1            13                  1                1  ...   \n",
      "12                 5            14                  3                6  ...   \n",
      "15                13             4                  3                3  ...   \n",
      "25                 6            41                  4                5  ...   \n",
      "\n",
      "    marital_Together  marital_Widow  education_2n Cycle  education_Basic  \\\n",
      "1                  0              0                   0                0   \n",
      "9                  1              0                   0                0   \n",
      "12                 0              0                   0                0   \n",
      "15                 0              0                   0                0   \n",
      "25                 0              0                   0                0   \n",
      "\n",
      "    education_Graduation  education_Master  education_PhD  MntTotal  \\\n",
      "1                      1                 0              0        21   \n",
      "9                      0                 0              1        36   \n",
      "12                     0                 1              0       296   \n",
      "15                     1                 0              0        92   \n",
      "25                     1                 0              0       216   \n",
      "\n",
      "    MntRegularProds  AcceptedCmpOverall  \n",
      "1                15                   0  \n",
      "9                23                   1  \n",
      "12              282                   0  \n",
      "15               88                   0  \n",
      "25              175                   0  \n",
      "\n",
      "[5 rows x 37 columns]\n"
     ]
    }
   ],
   "source": [
    "# Filtra el DataFrame y excluye las columnas no deseadas\n",
    "filtered_df = ifood_df[condition].drop(columns=['Kidhome', 'Teenhome'])\n",
    "\n",
    "print(filtered_df.head())  # Display the first few rows"
   ]
  },
  {
   "cell_type": "code",
   "execution_count": 42,
   "id": "cac17395-d7fd-48ae-8c71-d3394b0c2d87",
   "metadata": {},
   "outputs": [
    {
     "data": {
      "text/plain": [
       "Index(['Income', 'Recency', 'MntWines', 'MntFruits', 'MntMeatProducts',\n",
       "       'MntFishProducts', 'MntSweetProducts', 'MntGoldProds',\n",
       "       'NumDealsPurchases', 'NumWebPurchases', 'NumCatalogPurchases',\n",
       "       'NumStorePurchases', 'NumWebVisitsMonth', 'AcceptedCmp3',\n",
       "       'AcceptedCmp4', 'AcceptedCmp5', 'AcceptedCmp1', 'AcceptedCmp2',\n",
       "       'Complain', 'Z_CostContact', 'Z_Revenue', 'Response', 'Age',\n",
       "       'Customer_Days', 'marital_Divorced', 'marital_Married',\n",
       "       'marital_Single', 'marital_Together', 'marital_Widow',\n",
       "       'education_2n Cycle', 'education_Basic', 'education_Graduation',\n",
       "       'education_Master', 'education_PhD', 'MntTotal', 'MntRegularProds',\n",
       "       'AcceptedCmpOverall'],\n",
       "      dtype='object')"
      ]
     },
     "execution_count": 42,
     "metadata": {},
     "output_type": "execute_result"
    }
   ],
   "source": [
    "filtered_df.columns"
   ]
  },
  {
   "cell_type": "markdown",
   "id": "5789f3b7-f7b5-420d-ae0e-d5680aff1129",
   "metadata": {},
   "source": [
    "### Solo columnas con variables cualitativas"
   ]
  },
  {
   "cell_type": "code",
   "execution_count": 11,
   "id": "0da67158-19e3-4f66-bb47-ba73a8d682a6",
   "metadata": {},
   "outputs": [],
   "source": [
    "# Seleccionar las columnas de interés\n",
    "columnas = [ 'marital_Divorced','marital_Married', 'marital_Single', 'marital_Together', 'MntTotal', 'AcceptedCmpOverall']\n",
    "variables_cualitativas = filtered_df[columnas]\n",
    "variable_y = filtered_df['Response']\n"
   ]
  },
  {
   "cell_type": "code",
   "execution_count": 13,
   "id": "fbf0c769-24d9-4b25-a540-f45da4dc3ab1",
   "metadata": {},
   "outputs": [],
   "source": [
    "# una copia a los datos\n",
    "#df = ifood_df.copy()\n",
    "\n",
    "# seleccionamos variables explicativas y variables dependiente\n",
    "X = variables_cualitativas\n",
    "y = variable_y"
   ]
  },
  {
   "cell_type": "markdown",
   "id": "7198c389-856c-4cae-bc2e-8a116a7e64c0",
   "metadata": {},
   "source": [
    "### Dividiendo los datos para entrenar los modelos"
   ]
  },
  {
   "cell_type": "code",
   "execution_count": 15,
   "id": "ecbcdb71-886c-4e80-8cdf-f4d18d88c289",
   "metadata": {},
   "outputs": [
    {
     "name": "stdout",
     "output_type": "stream",
     "text": [
      "(368, 6) (368,)\n"
     ]
    },
    {
     "data": {
      "text/html": [
       "<div>\n",
       "<style scoped>\n",
       "    .dataframe tbody tr th:only-of-type {\n",
       "        vertical-align: middle;\n",
       "    }\n",
       "\n",
       "    .dataframe tbody tr th {\n",
       "        vertical-align: top;\n",
       "    }\n",
       "\n",
       "    .dataframe thead th {\n",
       "        text-align: right;\n",
       "    }\n",
       "</style>\n",
       "<table border=\"1\" class=\"dataframe\">\n",
       "  <thead>\n",
       "    <tr style=\"text-align: right;\">\n",
       "      <th></th>\n",
       "      <th>marital_Divorced</th>\n",
       "      <th>marital_Married</th>\n",
       "      <th>marital_Single</th>\n",
       "      <th>marital_Together</th>\n",
       "      <th>MntTotal</th>\n",
       "      <th>AcceptedCmpOverall</th>\n",
       "    </tr>\n",
       "  </thead>\n",
       "  <tbody>\n",
       "    <tr>\n",
       "      <th>1</th>\n",
       "      <td>0</td>\n",
       "      <td>0</td>\n",
       "      <td>1</td>\n",
       "      <td>0</td>\n",
       "      <td>21</td>\n",
       "      <td>0</td>\n",
       "    </tr>\n",
       "    <tr>\n",
       "      <th>9</th>\n",
       "      <td>0</td>\n",
       "      <td>0</td>\n",
       "      <td>0</td>\n",
       "      <td>1</td>\n",
       "      <td>36</td>\n",
       "      <td>1</td>\n",
       "    </tr>\n",
       "  </tbody>\n",
       "</table>\n",
       "</div>"
      ],
      "text/plain": [
       "   marital_Divorced  marital_Married  marital_Single  marital_Together  \\\n",
       "1                 0                0               1                 0   \n",
       "9                 0                0               0                 1   \n",
       "\n",
       "   MntTotal  AcceptedCmpOverall  \n",
       "1        21                   0  \n",
       "9        36                   1  "
      ]
     },
     "execution_count": 15,
     "metadata": {},
     "output_type": "execute_result"
    }
   ],
   "source": [
    "print(X.shape, y.shape)\n",
    "X.head(2)"
   ]
  },
  {
   "cell_type": "code",
   "execution_count": 33,
   "id": "07e97fa0-b78f-4ea8-9e5e-ccf176c9aa7d",
   "metadata": {},
   "outputs": [],
   "source": [
    "# Dividir los datos filtrados en conjuntos de entrenamiento y prueba\n",
    "X_train_filtered, X_test_filtered, y_train_filtered, y_test_filtered = train_test_split(X, y, test_size=0.3, random_state=42)"
   ]
  },
  {
   "cell_type": "markdown",
   "id": "e6926920-eec8-409e-83ba-e88274f7353e",
   "metadata": {},
   "source": [
    "# Árbol de decisión "
   ]
  },
  {
   "cell_type": "markdown",
   "id": "5b41b237-b059-4b3e-82a1-832771e717fc",
   "metadata": {},
   "source": [
    "### Hiperparámetros"
   ]
  },
  {
   "cell_type": "code",
   "execution_count": 35,
   "id": "13bf78bb-b2c6-4e9e-a444-092b1ae388a9",
   "metadata": {},
   "outputs": [
    {
     "data": {
      "text/plain": [
       "{'max_depth': 10, 'min_samples_leaf': 1, 'min_samples_split': 10}"
      ]
     },
     "execution_count": 35,
     "metadata": {},
     "output_type": "execute_result"
    }
   ],
   "source": [
    "# hallamos los mejors hiperparametros del modelo\n",
    "# Crear el clasificador\n",
    "clf = DecisionTreeClassifier()\n",
    "\n",
    "# Definir la grilla de hiperparámetros a explorar\n",
    "param_grid = {\n",
    "    'max_depth': [1, 10, 20],\n",
    "    'min_samples_split': [2, 5, 10],\n",
    "    'min_samples_leaf': [1, 2, 4]\n",
    "}\n",
    "\n",
    "# Realizar búsqueda en la grilla\n",
    "grid_search = GridSearchCV(clf, param_grid, cv=5)\n",
    "grid_search.fit(X_train_filtered, y_train_filtered)\n",
    "\n",
    "# Mejores hiperparámetros encontrados\n",
    "best_params = grid_search.best_params_\n",
    "best_params"
   ]
  },
  {
   "cell_type": "markdown",
   "id": "83afd620-34cf-4c05-878d-28e5ecfed58e",
   "metadata": {},
   "source": [
    "## Entrenando los modelos"
   ]
  },
  {
   "cell_type": "code",
   "execution_count": 37,
   "id": "629f0811-bd80-4eee-b0ee-3cdf9ea764df",
   "metadata": {},
   "outputs": [],
   "source": [
    "# Entrenamos el Modelo de Árbol de Decisión para Clasificación\n",
    "\n",
    "# Crea un clasificador de árbol de decisión\n",
    "modelo_ArbolDecisionClasif = DecisionTreeClassifier(max_depth=10,min_samples_leaf=1,min_samples_split=10)\n",
    "#10 2 2\n",
    "# Entrena el modelo en los datos de entrenamiento\n",
    "arbol=modelo_ArbolDecisionClasif.fit(X_train_filtered, y_train_filtered)"
   ]
  },
  {
   "cell_type": "markdown",
   "id": "865b0c18-d8b2-473d-96e8-9fcb55958c66",
   "metadata": {},
   "source": [
    "## Obtenemos la importancia de las variables"
   ]
  },
  {
   "cell_type": "code",
   "execution_count": 39,
   "id": "05acf461-8e0d-4e91-b9e7-5541269f0c6f",
   "metadata": {},
   "outputs": [
    {
     "data": {
      "image/png": "[encoded data removed]",
      "text/plain": [
       "<Figure size 1000x600 with 1 Axes>"
      ]
     },
     "metadata": {},
     "output_type": "display_data"
    }
   ],
   "source": [
    "# Obtenemos la importancia de las variables\n",
    "#feature_importance = modelo_ArbolDecisionClasif.feature_importances_\n",
    "feature_importance = arbol.feature_importances_\n",
    "\n",
    "# Creamos un DataFrame para visualizar las importancias junto con los nombres de las variables\n",
    "feature_names = X_train_filtered.columns\n",
    "importance_df = pd.DataFrame({'Feature': feature_names, 'Importance': feature_importance})\n",
    "\n",
    "# Ordenamos por importancia descendente\n",
    "importance_df = importance_df.sort_values(by='Importance', ascending=False)\n",
    "\n",
    "# Graficamos la importancia de las variables\n",
    "plt.figure(figsize=(10, 6))\n",
    "plt.barh(importance_df['Feature'], importance_df['Importance'])\n",
    "plt.xlabel('Importance')\n",
    "plt.ylabel('Feature')\n",
    "plt.title('Importancia de Variables en un Modelo de Árbol de Decisión - Clasificación')\n",
    "plt.show()"
   ]
  },
  {
   "cell_type": "markdown",
   "id": "6f09acd8-2f43-4217-b95c-a55ea3db8100",
   "metadata": {},
   "source": [
    "Aqui vemos que la variable mas importante de 'AcceptedCmpOverall'\n",
    "Y que la mitad o poco menos de las variables, segun la grafica, son menos importantes."
   ]
  },
  {
   "cell_type": "markdown",
   "id": "11ebc6dd-6062-48ec-931e-f18c5834fa7c",
   "metadata": {},
   "source": [
    "## Realizando predicciones con el conjunto de prueba"
   ]
  },
  {
   "cell_type": "code",
   "execution_count": 41,
   "id": "d524c90f-3976-4415-87df-7c525525c62a",
   "metadata": {},
   "outputs": [
    {
     "name": "stdout",
     "output_type": "stream",
     "text": [
      "Predicción Árbol de Decisión - Clasificación\n",
      "0    0.00\n",
      "1    0.00\n",
      "2    0.25\n",
      "Name: 1, dtype: float64\n"
     ]
    }
   ],
   "source": [
    "# Arbol de Decisión - Clasificación \n",
    "\n",
    "print('Predicción Árbol de Decisión - Clasificación')\n",
    "y_pred_ArbolDecisionClasif = arbol.predict_proba(X_test_filtered)\n",
    "y_pred_ArbolDecisionClasif = pd.DataFrame(y_pred_ArbolDecisionClasif)\n",
    "y_pred_ArbolDecisionClasif = y_pred_ArbolDecisionClasif.iloc[:,1]\n",
    "print(y_pred_ArbolDecisionClasif.head(3))"
   ]
  },
  {
   "cell_type": "markdown",
   "id": "cb4071f5-967a-4212-91df-eacb071ac14f",
   "metadata": {},
   "source": [
    "## Obteniendo el mejor alpha para nuestro árbol"
   ]
  },
  {
   "cell_type": "code",
   "execution_count": 43,
   "id": "fd0a1d91-e565-43ab-a7d7-5cc7eece56bb",
   "metadata": {},
   "outputs": [
    {
     "name": "stdout",
     "output_type": "stream",
     "text": [
      "Umbral óptimo- Arbol de Decisión: 0.2222222222222222\n"
     ]
    }
   ],
   "source": [
    "# Calcular la curva ROC - Arbol de Decisión\n",
    "#obteniendo el mejor alpha para un arbol de decisión\n",
    "fpr, tpr, thresholds = roc_curve(y_test_filtered, y_pred_ArbolDecisionClasif)\n",
    "\n",
    "# Encontrar el umbral óptimo (máximo índice de Youden)\n",
    "youden_index = tpr - fpr\n",
    "optimal_threshold = thresholds[np.argmax(youden_index)]\n",
    "\n",
    "print(\"Umbral óptimo- Arbol de Decisión:\", optimal_threshold)"
   ]
  },
  {
   "cell_type": "markdown",
   "id": "b43661f7-fd40-467e-af78-74e78a7469e9",
   "metadata": {},
   "source": [
    "> El mejor alpha para el árbol de decisión 0.5"
   ]
  },
  {
   "cell_type": "markdown",
   "id": "58ccebb4-09c0-4149-a106-dae07fa4dc12",
   "metadata": {},
   "source": [
    "## Matriz de confusión"
   ]
  },
  {
   "cell_type": "code",
   "execution_count": 47,
   "id": "60ee5a93-a06c-4781-b0bd-58b163600807",
   "metadata": {},
   "outputs": [
    {
     "name": "stdout",
     "output_type": "stream",
     "text": [
      "\n",
      "Matriz de confusión - Árbol de Decisión:\n",
      "[[87 14]\n",
      " [ 6  4]]\n"
     ]
    }
   ],
   "source": [
    "# Árbol de Decisión - Clasificación\n",
    "confusion = confusion_matrix(y_test_filtered, (y_pred_ArbolDecisionClasif>=0.22222).astype(int))\n",
    "print(\"\\nMatriz de confusión - Árbol de Decisión:\")\n",
    "print(confusion)"
   ]
  },
  {
   "cell_type": "markdown",
   "id": "6718dbd4-abfe-494d-9273-d7aa8b6bbdce",
   "metadata": {},
   "source": [
    "## Visualizando el árbol"
   ]
  },
  {
   "cell_type": "code",
   "execution_count": 49,
   "id": "8b62ef2d-b4e0-4d0b-b9c6-efa3efe4b5a4",
   "metadata": {},
   "outputs": [],
   "source": [
    "from sklearn import tree"
   ]
  },
  {
   "cell_type": "code",
   "execution_count": 51,
   "id": "cb1f4931-7dd9-4f9e-bd9a-5f56d93d3ccd",
   "metadata": {},
   "outputs": [
    {
     "name": "stdout",
     "output_type": "stream",
     "text": [
      "|--- MntTotal <= 89.50\n",
      "|   |--- marital_Single <= 0.50\n",
      "|   |   |--- MntTotal <= 24.50\n",
      "|   |   |   |--- MntTotal <= 23.50\n",
      "|   |   |   |   |--- class: 0\n",
      "|   |   |   |--- MntTotal >  23.50\n",
      "|   |   |   |   |--- class: 0\n",
      "|   |   |--- MntTotal >  24.50\n",
      "|   |   |   |--- class: 0\n",
      "|   |--- marital_Single >  0.50\n",
      "|   |   |--- AcceptedCmpOverall <= 0.50\n",
      "|   |   |   |--- MntTotal <= 52.00\n",
      "|   |   |   |   |--- class: 0\n",
      "|   |   |   |--- MntTotal >  52.00\n",
      "|   |   |   |   |--- MntTotal <= 60.50\n",
      "|   |   |   |   |   |--- class: 1\n",
      "|   |   |   |   |--- MntTotal >  60.50\n",
      "|   |   |   |   |   |--- MntTotal <= 68.50\n",
      "|   |   |   |   |   |   |--- class: 0\n",
      "|   |   |   |   |   |--- MntTotal >  68.50\n",
      "|   |   |   |   |   |   |--- class: 0\n",
      "|   |   |--- AcceptedCmpOverall >  0.50\n",
      "|   |   |   |--- class: 1\n",
      "|--- MntTotal >  89.50\n",
      "|   |--- MntTotal <= 121.50\n",
      "|   |   |--- MntTotal <= 119.50\n",
      "|   |   |   |--- AcceptedCmpOverall <= 0.50\n",
      "|   |   |   |   |--- marital_Married <= 0.50\n",
      "|   |   |   |   |   |--- class: 0\n",
      "|   |   |   |   |--- marital_Married >  0.50\n",
      "|   |   |   |   |   |--- class: 0\n",
      "|   |   |   |--- AcceptedCmpOverall >  0.50\n",
      "|   |   |   |   |--- class: 1\n",
      "|   |   |--- MntTotal >  119.50\n",
      "|   |   |   |--- class: 1\n",
      "|   |--- MntTotal >  121.50\n",
      "|   |   |--- MntTotal <= 313.50\n",
      "|   |   |   |--- MntTotal <= 168.00\n",
      "|   |   |   |   |--- MntTotal <= 150.00\n",
      "|   |   |   |   |   |--- class: 0\n",
      "|   |   |   |   |--- MntTotal >  150.00\n",
      "|   |   |   |   |   |--- class: 1\n",
      "|   |   |   |--- MntTotal >  168.00\n",
      "|   |   |   |   |--- marital_Together <= 0.50\n",
      "|   |   |   |   |   |--- class: 0\n",
      "|   |   |   |   |--- marital_Together >  0.50\n",
      "|   |   |   |   |   |--- class: 0\n",
      "|   |   |--- MntTotal >  313.50\n",
      "|   |   |   |--- MntTotal <= 396.00\n",
      "|   |   |   |   |--- MntTotal <= 341.50\n",
      "|   |   |   |   |   |--- class: 0\n",
      "|   |   |   |   |--- MntTotal >  341.50\n",
      "|   |   |   |   |   |--- class: 1\n",
      "|   |   |   |--- MntTotal >  396.00\n",
      "|   |   |   |   |--- AcceptedCmpOverall <= 0.50\n",
      "|   |   |   |   |   |--- MntTotal <= 598.50\n",
      "|   |   |   |   |   |   |--- MntTotal <= 594.00\n",
      "|   |   |   |   |   |   |   |--- MntTotal <= 470.00\n",
      "|   |   |   |   |   |   |   |   |--- class: 0\n",
      "|   |   |   |   |   |   |   |--- MntTotal >  470.00\n",
      "|   |   |   |   |   |   |   |   |--- MntTotal <= 496.50\n",
      "|   |   |   |   |   |   |   |   |   |--- class: 1\n",
      "|   |   |   |   |   |   |   |   |--- MntTotal >  496.50\n",
      "|   |   |   |   |   |   |   |   |   |--- marital_Single <= 0.50\n",
      "|   |   |   |   |   |   |   |   |   |   |--- class: 0\n",
      "|   |   |   |   |   |   |   |   |   |--- marital_Single >  0.50\n",
      "|   |   |   |   |   |   |   |   |   |   |--- class: 0\n",
      "|   |   |   |   |   |   |--- MntTotal >  594.00\n",
      "|   |   |   |   |   |   |   |--- class: 1\n",
      "|   |   |   |   |   |--- MntTotal >  598.50\n",
      "|   |   |   |   |   |   |--- class: 0\n",
      "|   |   |   |   |--- AcceptedCmpOverall >  0.50\n",
      "|   |   |   |   |   |--- class: 0\n",
      "\n"
     ]
    },
    {
     "data": {
      "image/png": "[encoded data removed]",
      "text/plain": [
       "<Figure size 1000x600 with 1 Axes>"
      ]
     },
     "metadata": {},
     "output_type": "display_data"
    }
   ],
   "source": [
    "print(tree.export_text(arbol,\n",
    "                       feature_names=['marital_Divorced','marital_Married', 'marital_Single', 'marital_Together', 'MntTotal', 'AcceptedCmpOverall']))\n",
    "                       \n",
    "plt.figure(figsize=(10,6))\n",
    "tree.plot_tree(arbol, feature_names=['marital_Divorced','marital_Married', 'marital_Single', 'marital_Together', 'MntTotal', 'AcceptedCmpOverall'])\n",
    "plt.show()"
   ]
  },
  {
   "cell_type": "markdown",
   "id": "b460c083-3706-48ee-8a2a-bef31ceefcc3",
   "metadata": {},
   "source": [
    "## Accuracy "
   ]
  },
  {
   "cell_type": "code",
   "execution_count": 53,
   "id": "d9eaa0b6-ee96-4ee2-8b29-5de342711b8c",
   "metadata": {},
   "outputs": [
    {
     "name": "stdout",
     "output_type": "stream",
     "text": [
      "Precisión del modelo-Arbol de Decisión: 0.8198198198198198\n"
     ]
    }
   ],
   "source": [
    "# Árbol de Decisión - Clasificación\n",
    "exactitud_test_ArbolDecisionClasif = accuracy_score(y_test_filtered, (y_pred_ArbolDecisionClasif>=0.22222).astype(int))\n",
    "print(\"Precisión del modelo-Arbol de Decisión:\", exactitud_test_ArbolDecisionClasif)"
   ]
  },
  {
   "cell_type": "markdown",
   "id": "21d84e22-e700-4aa4-8d71-59b90394601a",
   "metadata": {},
   "source": [
    "> **Aqui vemos que el modelo de árbol de decisión desarrollado para predecir la intención de compra de nuestros productos para niños alcanzó una exactitud del 86.48% en el conjunto de prueba. Este resultado indica que el modelo tiene una capacidad razonable para identificar a los clientes con mayor probabilidad de realizar una compra.** "
   ]
  },
  {
   "cell_type": "markdown",
   "id": "412d8d5f-c43c-4350-b62e-c6f676946fce",
   "metadata": {},
   "source": [
    "## Recall"
   ]
  },
  {
   "cell_type": "code",
   "execution_count": 55,
   "id": "40536abd-3b56-483d-a484-a59cb1d10b96",
   "metadata": {},
   "outputs": [
    {
     "name": "stdout",
     "output_type": "stream",
     "text": [
      "Sensibilidad del modelo-Arbol de Decisión: 0.4\n"
     ]
    }
   ],
   "source": [
    "# Árbol de Decisión - Clasificación\n",
    "sensibilidad_test_ArbolDecisionClasif = recall_score(y_test_filtered, (y_pred_ArbolDecisionClasif>=0.22222).astype(int))\n",
    "print(\"Sensibilidad del modelo-Arbol de Decisión:\", sensibilidad_test_ArbolDecisionClasif)"
   ]
  },
  {
   "cell_type": "markdown",
   "id": "8473db4d-0d1c-4f8c-91e1-892b0f9593a6",
   "metadata": {},
   "source": [
    ">  **El árbol identifica correctamente al 40% de los clientes que realmente van a comprar como compradores. En otras palabras, de cada 100 clientes que realmente compran, tu modelo identifica correctamente a 40% de ellos.**"
   ]
  },
  {
   "cell_type": "markdown",
   "id": "c384667f-20f6-4e5c-8e1d-0af1c2410a12",
   "metadata": {},
   "source": [
    "# Regresión logistica "
   ]
  },
  {
   "cell_type": "code",
   "execution_count": 58,
   "id": "d09f1f5b-f69c-415a-87ff-bb919e1b8082",
   "metadata": {},
   "outputs": [
    {
     "name": "stdout",
     "output_type": "stream",
     "text": [
      "Optimization terminated successfully.\n",
      "         Current function value: 0.358000\n",
      "         Iterations 7\n"
     ]
    }
   ],
   "source": [
    "# Ajusta el modelo de regresión logística\n",
    "modelo_logit = sm.Logit(y_train_filtered, X_train_filtered).fit()\n"
   ]
  },
  {
   "cell_type": "code",
   "execution_count": 60,
   "id": "e1614df1-5eab-4dd6-b919-4407a524f1d4",
   "metadata": {},
   "outputs": [],
   "source": [
    "# ajustamos el indice en x_test\n",
    "X_test_filtered.reset_index(drop=True, inplace=True)\n"
   ]
  },
  {
   "cell_type": "code",
   "execution_count": 62,
   "id": "d23b8774-3a9d-4182-856d-0c788bcedc1b",
   "metadata": {},
   "outputs": [
    {
     "name": "stdout",
     "output_type": "stream",
     "text": [
      "Predicción Regresión Logística - Logit\n",
      "0    0.406930\n",
      "1    0.104244\n",
      "2    0.198260\n",
      "dtype: float64\n"
     ]
    }
   ],
   "source": [
    "# Regresión Logistica - Logit\n",
    "\n",
    "print('Predicción Regresión Logística - Logit')\n",
    "y_pred_logit = modelo_logit.predict(X_test_filtered)\n",
    "print(y_pred_logit.head(3))"
   ]
  },
  {
   "cell_type": "markdown",
   "id": "c2a04de2-a6e8-4d05-b1eb-d0f24daa50a5",
   "metadata": {},
   "source": [
    "## Obteniendo el mejor alpha para modelo logistico"
   ]
  },
  {
   "cell_type": "code",
   "execution_count": 64,
   "id": "8db06dbb-83f6-4801-b202-2c35ceda9142",
   "metadata": {},
   "outputs": [
    {
     "name": "stdout",
     "output_type": "stream",
     "text": [
      "Umbral óptimo Logit: 0.12519733186518447\n"
     ]
    }
   ],
   "source": [
    "# Calcular la curva ROC - LOGIT\n",
    "\n",
    "fpr, tpr, thresholds = roc_curve(y_test_filtered, y_pred_logit)\n",
    "\n",
    "# Encontrar el umbral óptimo (máximo índice de Youden)\n",
    "youden_index = tpr - fpr\n",
    "optimal_threshold = thresholds[np.argmax(youden_index)]\n",
    "\n",
    "print(\"Umbral óptimo Logit:\", optimal_threshold)"
   ]
  },
  {
   "cell_type": "markdown",
   "id": "d0dd2f9f-3d8c-41b6-b2f3-0540aac134c8",
   "metadata": {},
   "source": [
    "## Matriz de confusión "
   ]
  },
  {
   "cell_type": "code",
   "execution_count": 68,
   "id": "f773451e-c3e1-44c7-90e7-c68fa1f46fb4",
   "metadata": {},
   "outputs": [
    {
     "name": "stdout",
     "output_type": "stream",
     "text": [
      "Matriz de confusión - Logit:\n",
      "[[65 36]\n",
      " [ 4  6]]\n"
     ]
    }
   ],
   "source": [
    "# Matriz de confusión\n",
    "\n",
    "            #Predicción\n",
    "            #   0   1\n",
    "#ValorReal  0 # VN FP\n",
    "#Valor Real 1 # FN VP\n",
    "\n",
    "# Regresión Logistica - Logit\n",
    "confusion = confusion_matrix(y_test_filtered, (y_pred_logit>=0.12519733186518447).astype(int))\n",
    "print(\"Matriz de confusión - Logit:\")\n",
    "print(confusion)"
   ]
  },
  {
   "cell_type": "markdown",
   "id": "75d7b2f9-cd59-4bb9-925d-24bc25bea465",
   "metadata": {},
   "source": [
    "## Accuracy"
   ]
  },
  {
   "cell_type": "code",
   "execution_count": 70,
   "id": "3ba923da-37b8-4e7f-b5e1-1908e24ed354",
   "metadata": {},
   "outputs": [
    {
     "name": "stdout",
     "output_type": "stream",
     "text": [
      "Precisión del modelo-Logit: 0.6396396396396397\n"
     ]
    }
   ],
   "source": [
    "# Regresión Logistica - Logit\n",
    "exactitud_test_logit = accuracy_score(y_test_filtered, (y_pred_logit>=0.12519733186518447).astype(int))\n",
    "print(\"Precisión del modelo-Logit:\", exactitud_test_logit)"
   ]
  },
  {
   "cell_type": "markdown",
   "id": "92c3a14b-357e-4648-a4fb-b73f46f04190",
   "metadata": {},
   "source": [
    "> **Aqui vemos que el modelo de regresión logística desarrollado para predecir la intención de compra de nuestros productos para niños alcanzó una exactitud del 63.51% en el conjunto de prueba. Este resultado indica que el modelo tiene una buena capacidad para identificar a los clientes con mayor probabilidad de realizar una compra.**"
   ]
  },
  {
   "cell_type": "markdown",
   "id": "ad81bbe4-16eb-4ac1-9ffe-ec6bf521bf1d",
   "metadata": {},
   "source": [
    "## Recall"
   ]
  },
  {
   "cell_type": "code",
   "execution_count": 72,
   "id": "5107c7b8-76a6-4d71-8b17-23ce518b6c2d",
   "metadata": {},
   "outputs": [
    {
     "name": "stdout",
     "output_type": "stream",
     "text": [
      "Sensibilidad del modelo-Logit: 0.6\n"
     ]
    }
   ],
   "source": [
    "# Regresion Logistica - Logit\n",
    "sensibilidad_test_logit = recall_score(y_test_filtered, (y_pred_logit>=0.12519733186518447).astype(int))\n",
    "print(\"Sensibilidad del modelo-Logit:\", sensibilidad_test_logit)"
   ]
  },
  {
   "cell_type": "markdown",
   "id": "189b030b-a508-4533-a41e-d6a3d6744a0a",
   "metadata": {},
   "source": [
    ">  **El modelos de regresión logísitica identifica correctamente al 60% de los clientes que realmente van a comprar como compradores. Este modelo ha mostrado una mejora sustancial en la identificación de clientes potenciales, a diferencia del árbol de desición.**\n",
    "\n",
    "> **Por lo que nuestro modelo de regresión es mejor al identificar los clientes objetivo y maximizar las ventas según estos resultados**"
   ]
  }
 ],
 "metadata": {
  "kernelspec": {
   "display_name": "Python 3 (ipykernel)",
   "language": "python",
   "name": "python3"
  },
  "language_info": {
   "codemirror_mode": {
    "name": "ipython",
    "version": 3
   },
   "file_extension": ".py",
   "mimetype": "text/x-python",
   "name": "python",
   "nbconvert_exporter": "python",
   "pygments_lexer": "ipython3",
   "version": "3.12.4"
  }
 },
 "nbformat": 4,
 "nbformat_minor": 5
}
